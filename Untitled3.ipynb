{
  "nbformat": 4,
  "nbformat_minor": 0,
  "metadata": {
    "colab": {
      "provenance": []
    },
    "kernelspec": {
      "name": "python3",
      "display_name": "Python 3"
    },
    "language_info": {
      "name": "python"
    }
  },
  "cells": [
    {
      "cell_type": "code",
      "execution_count": null,
      "metadata": {
        "colab": {
          "base_uri": "https://localhost:8080/"
        },
        "id": "ORIdDkX4hVVA",
        "outputId": "52a97277-2f9c-4361-bf83-0b90775d37a9"
      },
      "outputs": [
        {
          "output_type": "stream",
          "name": "stdout",
          "text": [
            "Drive already mounted at /content/drive; to attempt to forcibly remount, call drive.mount(\"/content/drive\", force_remount=True).\n"
          ]
        }
      ],
      "source": [
        "from google.colab import drive\n",
        "drive.mount('/content/drive')\n"
      ]
    },
    {
      "cell_type": "code",
      "source": [
        "!pip install beautifulsoup4 unidecode"
      ],
      "metadata": {
        "colab": {
          "base_uri": "https://localhost:8080/"
        },
        "id": "XgGiNHnLipJP",
        "outputId": "875b57ad-ef89-45bc-bde7-51a7e9f94a62"
      },
      "execution_count": null,
      "outputs": [
        {
          "output_type": "stream",
          "name": "stdout",
          "text": [
            "Requirement already satisfied: beautifulsoup4 in /usr/local/lib/python3.10/dist-packages (4.12.3)\n",
            "Requirement already satisfied: unidecode in /usr/local/lib/python3.10/dist-packages (1.3.8)\n",
            "Requirement already satisfied: soupsieve>1.2 in /usr/local/lib/python3.10/dist-packages (from beautifulsoup4) (2.5)\n"
          ]
        }
      ]
    },
    {
      "cell_type": "code",
      "source": [
        "from bs4 import BeautifulSoup\n",
        "import re\n",
        "import unidecode\n",
        "\n",
        "# Function to remove HTML tags and convert to lowercase\n",
        "def clean_text(text):\n",
        "    text = BeautifulSoup(text, \"html.parser\").get_text()  # Remove HTML tags\n",
        "    text = unidecode.unidecode(text)  # Convert Unicode characters to ASCII\n",
        "    text = re.sub(r'\\s+', ' ', text)  # Remove extra whitespaces\n",
        "    text = re.sub(r'[^a-zA-Z0-9\\s]', '', text)  # Remove special characters\n",
        "    text = text.lower().strip()  # Convert to lowercase and strip\n",
        "    return text\n",
        "\n",
        "# Main text preprocessing function\n",
        "def text_preprocess(text):\n",
        "    text = clean_text(text)\n",
        "    # Additional steps like acronym normalization or word segmentation can be added here if needed\n",
        "    return text"
      ],
      "metadata": {
        "id": "YIzQkCTUimdd"
      },
      "execution_count": null,
      "outputs": []
    },
    {
      "cell_type": "code",
      "source": [
        "import pandas as pd\n",
        "\n",
        "# Assuming bigdata_selected is already loaded from Google Drive\n",
        "# Replace this with your actual data loading code if necessary\n",
        "file_path = '/content/drive/My Drive/bigdata_selected.csv'\n",
        "bigdata_selected = pd.read_csv(file_path)\n",
        "\n",
        "# Define features (X) and target (y)\n",
        "X = bigdata_selected['Review'].astype(str).apply(text_preprocess) # Assuming 'Review' is your feature column\n",
        "y = bigdata_selected[['Taste', 'Smell', 'Quality']]  # Assuming these are your target columns\n",
        "\n",
        "\n",
        "split_index = int(0.8 * len(X))\n",
        "X_train, X_val = X[:split_index], X[split_index:]\n",
        "y_train, y_val = y[:split_index], y[split_index:]\n",
        "\n",
        "\n",
        "# Print shapes to verify split\n",
        "print(\"Training set:\")\n",
        "print(f\"X_train shape: {X_train.shape}, y_train shape: {y_train.shape}\")\n",
        "print(\"Validation set:\")\n",
        "print(f\"X_val shape: {X_val.shape}, y_val shape: {y_val.shape}\")"
      ],
      "metadata": {
        "colab": {
          "base_uri": "https://localhost:8080/"
        },
        "id": "uavZC0ywiBqn",
        "outputId": "f82d84d9-d2d0-411a-f1ba-3a4726050389"
      },
      "execution_count": null,
      "outputs": [
        {
          "output_type": "stream",
          "name": "stderr",
          "text": [
            "<ipython-input-5-ad48189212e9>:7: MarkupResemblesLocatorWarning: The input looks more like a filename than markup. You may want to open this file and pass the filehandle into Beautiful Soup.\n",
            "  text = BeautifulSoup(text, \"html.parser\").get_text()  # Remove HTML tags\n"
          ]
        },
        {
          "output_type": "stream",
          "name": "stdout",
          "text": [
            "Training set:\n",
            "X_train shape: (2467,), y_train shape: (2467, 3)\n",
            "Validation set:\n",
            "X_val shape: (617,), y_val shape: (617, 3)\n"
          ]
        }
      ]
    },
    {
      "cell_type": "markdown",
      "source": [
        "#Standard data"
      ],
      "metadata": {
        "id": "G1YYkfOfj7Z7"
      }
    },
    {
      "cell_type": "code",
      "source": [
        "import numpy as np\n",
        "def make_outputs(df):\n",
        "    outputs = []\n",
        "    for row in range(len(df)):\n",
        "        row_one_hot = []\n",
        "        for col in range(0, len(df.columns)):\n",
        "            sentiment = df.iloc[row, col]\n",
        "            if   sentiment == 0: one_hot = [1, 0, 0, 0] # None\n",
        "            elif sentiment == 1: one_hot = [0, 1, 0, 0] # Pos\n",
        "            elif sentiment == 2: one_hot = [0, 0, 1, 0] # Neg\n",
        "            elif sentiment == 3: one_hot = [0, 0, 0, 1] # Neu\n",
        "            row_one_hot.extend(one_hot)\n",
        "\n",
        "        outputs.append(row_one_hot)\n",
        "    return np.array(outputs, dtype='uint8')"
      ],
      "metadata": {
        "id": "ocWXI4Vfj1oN"
      },
      "execution_count": null,
      "outputs": []
    },
    {
      "cell_type": "code",
      "source": [
        "# cái này thử sau\n",
        "\n",
        "# import numpy as np\n",
        "# def make_outputs(df):\n",
        "#     outputs = []\n",
        "#     for row in range(len(df)):\n",
        "#         row_one_hot = []\n",
        "#         for col in range(0, len(df.columns)):\n",
        "#             sentiment = df.iloc[row, col]\n",
        "#             if   sentiment == 0: one_hot = [1, 0, 0, 0] # None\n",
        "#             elif sentiment == 1: one_hot = [0, 1, 0, 0] # Pos\n",
        "#             elif sentiment == 2: one_hot = [0, 0, 1, 0] # Neg\n",
        "#             elif sentiment == 3: one_hot = [0, 0, 0, 1] # Neu\n",
        "#             row_one_hot.append(one_hot)\n",
        "\n",
        "#         outputs.append(row_one_hot)\n",
        "#     return np.array(outputs, dtype='uint8')"
      ],
      "metadata": {
        "id": "TRo1j3nOkQJf"
      },
      "execution_count": null,
      "outputs": []
    },
    {
      "cell_type": "code",
      "source": [
        "y_train_standardize_output = make_outputs(y_train)\n",
        "y_val_standardize_output = make_outputs(y_val)\n",
        "\n",
        "print('Train outputs:', y_train_standardize_output.shape)\n",
        "print('Validate outputs:', y_val_standardize_output.shape)\n",
        "y_train_standardize_output[0]"
      ],
      "metadata": {
        "colab": {
          "base_uri": "https://localhost:8080/"
        },
        "id": "nnkdVReqkMrt",
        "outputId": "bb8ded2a-9d5d-4f63-dc3c-ce4ba9482760"
      },
      "execution_count": null,
      "outputs": [
        {
          "output_type": "stream",
          "name": "stdout",
          "text": [
            "Train outputs: (2467, 12)\n",
            "Validate outputs: (617, 12)\n"
          ]
        },
        {
          "output_type": "execute_result",
          "data": {
            "text/plain": [
              "array([0, 1, 0, 0, 0, 1, 0, 0, 0, 1, 0, 0], dtype=uint8)"
            ]
          },
          "metadata": {},
          "execution_count": 9
        }
      ]
    },
    {
      "cell_type": "markdown",
      "source": [
        "#Training or fine tuning the data"
      ],
      "metadata": {
        "id": "Kt7VjLSZj_aE"
      }
    },
    {
      "cell_type": "markdown",
      "source": [
        "### embeding"
      ],
      "metadata": {
        "id": "ypl857Agma13"
      }
    },
    {
      "cell_type": "code",
      "source": [
        "import tensorflow as tf\n",
        "import tensorflow_hub as hub\n",
        "# import tensorflow_text as text\n",
        "from tensorflow.keras.optimizers import Adam"
      ],
      "metadata": {
        "id": "8uORSmCui0ua"
      },
      "execution_count": null,
      "outputs": []
    },
    {
      "cell_type": "markdown",
      "source": [
        "embeding có thể đổi được"
      ],
      "metadata": {
        "id": "9VPpb80Wjl_l"
      }
    },
    {
      "cell_type": "code",
      "source": [
        "\n",
        "\n",
        "# Define a Keras layer that uses the Universal Sentence Encoder\n",
        "hub_layer = hub.KerasLayer(\"https://tfhub.dev/google/universal-sentence-encoder/4\",\n",
        "                           input_shape=[],\n",
        "                           dtype=tf.string,\n",
        "                           trainable=True)\n",
        "\n",
        "# Create a Sequential model\n",
        "model = tf.keras.Sequential()\n",
        "\n",
        "# Add the USE layer to the model\n",
        "model.add(hub_layer)\n",
        "\n",
        "# Add dense layers\n",
        "model.add(tf.keras.layers.Dense(32, activation=\"relu\"))\n",
        "model.add(tf.keras.layers.Dense(16, activation=\"relu\"))\n",
        "model.add(tf.keras.layers.Dense(12, activation=\"sigmoid\"))\n",
        "\n",
        "# Print the model summary\n",
        "model.summary()\n",
        "adam = Adam(learning_rate =0.001)\n",
        "model.compile(optimizer=adam,\n",
        "              loss='binary_crossentropy',\n",
        "              metrics=tf.keras.metrics.BinaryAccuracy( name=\"binary_accuracy\", dtype= None, threshold=0.5))\n"
      ],
      "metadata": {
        "colab": {
          "base_uri": "https://localhost:8080/"
        },
        "id": "b1HeWbPIjVoX",
        "outputId": "70b0efe7-7341-4aa2-c1a7-274cf51bc648"
      },
      "execution_count": null,
      "outputs": [
        {
          "output_type": "stream",
          "name": "stdout",
          "text": [
            "Model: \"sequential\"\n",
            "_________________________________________________________________\n",
            " Layer (type)                Output Shape              Param #   \n",
            "=================================================================\n",
            " keras_layer (KerasLayer)    (None, 512)               256797824 \n",
            "                                                                 \n",
            " dense (Dense)               (None, 32)                16416     \n",
            "                                                                 \n",
            " dense_1 (Dense)             (None, 16)                528       \n",
            "                                                                 \n",
            " dense_2 (Dense)             (None, 12)                204       \n",
            "                                                                 \n",
            "=================================================================\n",
            "Total params: 256814972 (979.67 MB)\n",
            "Trainable params: 256814972 (979.67 MB)\n",
            "Non-trainable params: 0 (0.00 Byte)\n",
            "_________________________________________________________________\n"
          ]
        }
      ]
    },
    {
      "cell_type": "code",
      "source": [
        "callback_model= tf.keras.callbacks.ModelCheckpoint('model_google_embedding.h5', monitor='val_loss')\n",
        "history= model.fit(x=X_train, y =y_train_standardize_output,  epochs =10, validation_data=[X_val,y_val_standardize_output], callbacks=[callback_model])"
      ],
      "metadata": {
        "colab": {
          "base_uri": "https://localhost:8080/"
        },
        "id": "W_1t0iA4l2k2",
        "outputId": "7b53e07e-ba0a-4da9-b15c-83e9ca6a4b7f"
      },
      "execution_count": null,
      "outputs": [
        {
          "output_type": "stream",
          "name": "stdout",
          "text": [
            "Epoch 1/10\n",
            "78/78 [==============================] - ETA: 0s - loss: 0.4696 - binary_accuracy: 0.8095"
          ]
        },
        {
          "output_type": "stream",
          "name": "stderr",
          "text": [
            "/usr/local/lib/python3.10/dist-packages/keras/src/engine/training.py:3103: UserWarning: You are saving your model as an HDF5 file via `model.save()`. This file format is considered legacy. We recommend using instead the native Keras format, e.g. `model.save('my_model.keras')`.\n",
            "  saving_api.save_model(\n"
          ]
        },
        {
          "output_type": "stream",
          "name": "stdout",
          "text": [
            "\b\b\b\b\b\b\b\b\b\b\b\b\b\b\b\b\b\b\b\b\b\b\b\b\b\b\b\b\b\b\b\b\b\b\b\b\b\b\b\b\b\b\b\b\b\b\b\b\b\b\b\b\b\b\b\b\b\b\b\b\b\b\b\b\b\b\b\b\b\b\b\b\b\b\b\b\b\b\b\b\b\b\b\b\b\b\b\b\b\r78/78 [==============================] - 780s 10s/step - loss: 0.4696 - binary_accuracy: 0.8095 - val_loss: 0.4231 - val_binary_accuracy: 0.8036\n",
            "Epoch 2/10\n",
            "78/78 [==============================] - 805s 10s/step - loss: 0.3915 - binary_accuracy: 0.8264 - val_loss: 0.4195 - val_binary_accuracy: 0.7909\n",
            "Epoch 3/10\n",
            "78/78 [==============================] - 773s 10s/step - loss: 0.3739 - binary_accuracy: 0.8374 - val_loss: 0.4291 - val_binary_accuracy: 0.7959\n",
            "Epoch 4/10\n",
            "78/78 [==============================] - 758s 10s/step - loss: 0.2740 - binary_accuracy: 0.8861 - val_loss: 0.5060 - val_binary_accuracy: 0.7898\n",
            "Epoch 5/10\n",
            "78/78 [==============================] - 769s 10s/step - loss: 0.1982 - binary_accuracy: 0.9171 - val_loss: 0.5578 - val_binary_accuracy: 0.7851\n",
            "Epoch 6/10\n",
            "78/78 [==============================] - 713s 9s/step - loss: 0.1515 - binary_accuracy: 0.9377 - val_loss: 0.6792 - val_binary_accuracy: 0.7971\n",
            "Epoch 7/10\n",
            "78/78 [==============================] - 784s 10s/step - loss: 0.1257 - binary_accuracy: 0.9477 - val_loss: 0.7719 - val_binary_accuracy: 0.7893\n",
            "Epoch 8/10\n",
            "78/78 [==============================] - 741s 10s/step - loss: 0.1120 - binary_accuracy: 0.9567 - val_loss: 0.6894 - val_binary_accuracy: 0.7858\n",
            "Epoch 9/10\n",
            "78/78 [==============================] - 752s 10s/step - loss: 0.1007 - binary_accuracy: 0.9607 - val_loss: 0.7551 - val_binary_accuracy: 0.7939\n",
            "Epoch 10/10\n",
            "78/78 [==============================] - 755s 10s/step - loss: 0.0890 - binary_accuracy: 0.9638 - val_loss: 0.7441 - val_binary_accuracy: 0.7928\n"
          ]
        }
      ]
    },
    {
      "cell_type": "code",
      "source": [
        "model.save('model_final.h5')"
      ],
      "metadata": {
        "id": "x5wVjo3aPT1O"
      },
      "execution_count": null,
      "outputs": []
    },
    {
      "cell_type": "code",
      "source": [
        "ID của bạn:\n",
        "Mật khẩu: 63919"
      ],
      "metadata": {
        "colab": {
          "base_uri": "https://localhost:8080/"
        },
        "id": "ep6ZNzaoPWRM",
        "outputId": "807fd386-5cf0-4ff5-bbd4-8923a2e3ea2e"
      },
      "execution_count": null,
      "outputs": [
        {
          "output_type": "stream",
          "name": "stdout",
          "text": [
            "1/1 [==============================] - 0s 50ms/step\n",
            "[[1.0386888e-02 8.7038743e-01 1.6344734e-02 4.5577165e-02 2.7227065e-02\n",
            "  4.6728069e-01 4.8307762e-03 2.1677765e-01 5.6454778e-04 9.3168241e-01\n",
            "  1.0396725e-01 3.8112905e-02]\n",
            " [4.1812703e-02 8.9718837e-01 3.7586860e-02 8.6054578e-02 1.0593653e-01\n",
            "  7.3656207e-01 1.3504137e-02 2.5684494e-01 5.9946906e-03 9.5668501e-01\n",
            "  8.9454561e-02 6.1959229e-02]]\n"
          ]
        }
      ]
    }
  ]
}