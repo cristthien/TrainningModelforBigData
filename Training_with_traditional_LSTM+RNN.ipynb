{
  "nbformat": 4,
  "nbformat_minor": 0,
  "metadata": {
    "colab": {
      "provenance": []
    },
    "kernelspec": {
      "name": "python3",
      "display_name": "Python 3"
    },
    "language_info": {
      "name": "python"
    }
  },
  "cells": [
    {
      "cell_type": "code",
      "source": [
        "from google.colab import drive\n",
        "drive.mount('/content/drive')"
      ],
      "metadata": {
        "colab": {
          "base_uri": "https://localhost:8080/"
        },
        "id": "jjR-B6yZA84_",
        "outputId": "73f97f95-6f4c-4fa7-e633-04a87dad2771"
      },
      "execution_count": 1,
      "outputs": [
        {
          "output_type": "stream",
          "name": "stdout",
          "text": [
            "Mounted at /content/drive\n"
          ]
        }
      ]
    },
    {
      "cell_type": "code",
      "source": [
        "!pip install beautifulsoup4 unidecode"
      ],
      "metadata": {
        "colab": {
          "base_uri": "https://localhost:8080/"
        },
        "id": "JyDVfQSYDZw3",
        "outputId": "c769ebb0-61bb-423b-d2fa-fb7ee5e80337"
      },
      "execution_count": 2,
      "outputs": [
        {
          "output_type": "stream",
          "name": "stdout",
          "text": [
            "Requirement already satisfied: beautifulsoup4 in /usr/local/lib/python3.10/dist-packages (4.12.3)\n",
            "Collecting unidecode\n",
            "  Downloading Unidecode-1.3.8-py3-none-any.whl (235 kB)\n",
            "\u001b[2K     \u001b[90m━━━━━━━━━━━━━━━━━━━━━━━━━━━━━━━━━━━━━━━━\u001b[0m \u001b[32m235.5/235.5 kB\u001b[0m \u001b[31m4.4 MB/s\u001b[0m eta \u001b[36m0:00:00\u001b[0m\n",
            "\u001b[?25hRequirement already satisfied: soupsieve>1.2 in /usr/local/lib/python3.10/dist-packages (from beautifulsoup4) (2.5)\n",
            "Installing collected packages: unidecode\n",
            "Successfully installed unidecode-1.3.8\n"
          ]
        }
      ]
    },
    {
      "cell_type": "code",
      "source": [
        "from bs4 import BeautifulSoup\n",
        "import re\n",
        "import unidecode\n",
        "\n",
        "# Function to remove HTML tags and convert to lowercase\n",
        "def clean_text(text):\n",
        "    text = BeautifulSoup(text, \"html.parser\").get_text()  # Remove HTML tags\n",
        "    text = unidecode.unidecode(text)  # Convert Unicode characters to ASCII\n",
        "    text = re.sub(r'\\s+', ' ', text)  # Remove extra whitespaces\n",
        "    text = re.sub(r'[^a-zA-Z0-9\\s]', '', text)  # Remove special characters\n",
        "    text = text.lower().strip()  # Convert to lowercase and strip\n",
        "    return text\n",
        "\n",
        "# Main text preprocessing function\n",
        "def text_preprocess(text):\n",
        "    text = clean_text(text)\n",
        "    # Additional steps like acronym normalization or word segmentation can be added here if needed\n",
        "    return text"
      ],
      "metadata": {
        "id": "Weu7OFp-DZ9d"
      },
      "execution_count": 3,
      "outputs": []
    },
    {
      "cell_type": "code",
      "source": [
        "from sklearn.model_selection import train_test_split\n",
        "import pandas as pd\n",
        "\n",
        "# Assuming bigdata_selected is already loaded from Google Drive\n",
        "# Replace this with your actual data loading code if necessary\n",
        "file_path = '/content/drive/MyDrive/ABSA/bigdata_selected.csv'\n",
        "bigdata_selected = pd.read_csv(file_path)\n",
        "\n",
        "# Define features (X) and target (y)\n",
        "X = bigdata_selected['Review'].astype(str).apply(text_preprocess) # Assuming 'Review' is your feature column\n",
        "y = bigdata_selected[['Taste', 'Smell', 'Quality']]  # Assuming these are your target columns\n",
        "\n",
        "\n",
        "split_index = int(0.8 * len(X))\n",
        "X_train, X_val = X[:split_index], X[split_index:]\n",
        "y_train, y_val = y[:split_index], y[split_index:]\n",
        "\n",
        "\n",
        "# Print shapes to verify split\n",
        "print(\"Training set:\")\n",
        "print(f\"X_train shape: {X_train.shape}, y_train shape: {y_train.shape}\")\n",
        "print(\"Validation set:\")\n",
        "print(f\"X_val shape: {X_val.shape}, y_val shape: {y_val.shape}\")\n",
        "\n",
        "# Now you can proceed to train your model using X_train and y_train,\n",
        "# and validate using X_val and y_val\n"
      ],
      "metadata": {
        "colab": {
          "base_uri": "https://localhost:8080/"
        },
        "id": "ht2Uf5sUDbfC",
        "outputId": "6cd97543-2ada-4185-88e5-1913a582b90c"
      },
      "execution_count": 4,
      "outputs": [
        {
          "output_type": "stream",
          "name": "stderr",
          "text": [
            "<ipython-input-3-ad48189212e9>:7: MarkupResemblesLocatorWarning: The input looks more like a filename than markup. You may want to open this file and pass the filehandle into Beautiful Soup.\n",
            "  text = BeautifulSoup(text, \"html.parser\").get_text()  # Remove HTML tags\n"
          ]
        },
        {
          "output_type": "stream",
          "name": "stdout",
          "text": [
            "Training set:\n",
            "X_train shape: (2467,), y_train shape: (2467, 3)\n",
            "Validation set:\n",
            "X_val shape: (617,), y_val shape: (617, 3)\n"
          ]
        }
      ]
    },
    {
      "cell_type": "code",
      "source": [
        "import numpy as np\n",
        "def make_outputs(df):\n",
        "    outputs = []\n",
        "    for row in range(len(df)):\n",
        "        row_one_hot = []\n",
        "        for col in range(0, len(df.columns)):\n",
        "            sentiment = df.iloc[row, col]\n",
        "            if   sentiment == 0: one_hot = [1, 0, 0, 0] # None\n",
        "            elif sentiment == 1: one_hot = [0, 1, 0, 0] # Pos\n",
        "            elif sentiment == 2: one_hot = [0, 0, 1, 0] # Neg\n",
        "            elif sentiment == 3: one_hot = [0, 0, 0, 1] # Neu\n",
        "            row_one_hot.extend(one_hot)\n",
        "\n",
        "        outputs.append(row_one_hot)\n",
        "    return np.array(outputs, dtype='uint8')"
      ],
      "metadata": {
        "id": "L4ztiLk2DdjI"
      },
      "execution_count": 5,
      "outputs": []
    },
    {
      "cell_type": "code",
      "source": [
        "y_train_standardize_output = make_outputs(y_train)\n",
        "y_val_standardize_output = make_outputs(y_val)\n",
        "\n",
        "print('Train outputs:', y_train_standardize_output.shape)\n",
        "print('Validate outputs:', y_val_standardize_output.shape)\n",
        "y_train_standardize_output[0]"
      ],
      "metadata": {
        "colab": {
          "base_uri": "https://localhost:8080/"
        },
        "id": "xmQIQvruDgJP",
        "outputId": "a5e2f318-e6f7-42bf-fdfe-c0af9ed79492"
      },
      "execution_count": 6,
      "outputs": [
        {
          "output_type": "stream",
          "name": "stdout",
          "text": [
            "Train outputs: (2467, 12)\n",
            "Validate outputs: (617, 12)\n"
          ]
        },
        {
          "output_type": "execute_result",
          "data": {
            "text/plain": [
              "array([0, 1, 0, 0, 0, 1, 0, 0, 0, 1, 0, 0], dtype=uint8)"
            ]
          },
          "metadata": {},
          "execution_count": 6
        }
      ]
    },
    {
      "cell_type": "code",
      "source": [
        "import pandas as pd\n",
        "seq_len = [len(i.split()) for i in  X_train]\n",
        "pd.Series(seq_len).hist(bins=30)"
      ],
      "metadata": {
        "colab": {
          "base_uri": "https://localhost:8080/",
          "height": 447
        },
        "id": "7saIRH3QGO8k",
        "outputId": "6ccc3344-80a6-44a4-e9dd-7c74ce50d88a"
      },
      "execution_count": 7,
      "outputs": [
        {
          "output_type": "execute_result",
          "data": {
            "text/plain": [
              "<Axes: >"
            ]
          },
          "metadata": {},
          "execution_count": 7
        },
        {
          "output_type": "display_data",
          "data": {
            "text/plain": [
              "<Figure size 640x480 with 1 Axes>"
            ],
            "image/png": "[encoded data removed]"
          },
          "metadata": {}
        }
      ]
    },
    {
      "cell_type": "code",
      "source": [
        "from tensorflow.keras.preprocessing.text import Tokenizer\n",
        "from tensorflow.keras.preprocessing.sequence import pad_sequences\n"
      ],
      "metadata": {
        "id": "B4tTZSXnHkxG"
      },
      "execution_count": 11,
      "outputs": []
    },
    {
      "cell_type": "code",
      "source": [
        "from tensorflow.keras.preprocessing.text import Tokenizer\n",
        "from tensorflow.keras.preprocessing.sequence import pad_sequences\n",
        "\n",
        "# Initialize the tokenizer with OOV token\n",
        "tokenizer_data = Tokenizer(oov_token=\"<OOV>\", filters='', split=' ')\n",
        "tokenizer_data.fit_on_texts(X_train)\n",
        "\n",
        "# Convert training texts to sequences of integers\n",
        "tokenizer_data_train = tokenizer_data.texts_to_sequences(X_train)\n",
        "# Pad the sequences to ensure they are of the same length\n",
        "vec_data_train = pad_sequences(tokenizer_data_train, maxlen=100, padding='post')\n",
        "\n",
        "# Convert validation texts to sequences of integers\n",
        "tokenizer_data_test = tokenizer_data.texts_to_sequences(X_val)\n",
        "# Pad the sequences to ensure they are of the same length\n",
        "vec_data_test = pad_sequences(tokenizer_data_test, maxlen=100, padding='post')\n",
        "\n",
        "# Get the size of the vocabulary\n",
        "data_vocab_size = len(tokenizer_data.word_index) + 1\n",
        "\n",
        "# Print shapes and vocabulary size\n",
        "print(vec_data_train.shape)\n",
        "print(vec_data_test.shape)\n",
        "print(data_vocab_size)\n"
      ],
      "metadata": {
        "colab": {
          "base_uri": "https://localhost:8080/"
        },
        "id": "wWAN_BnbG1D-",
        "outputId": "7fa89353-f625-4858-af97-d1ca4f04c040"
      },
      "execution_count": 8,
      "outputs": [
        {
          "output_type": "stream",
          "name": "stdout",
          "text": [
            "(2467, 100)\n",
            "(617, 100)\n",
            "9489\n"
          ]
        }
      ]
    },
    {
      "cell_type": "code",
      "source": [
        "vec_data_train[0]"
      ],
      "metadata": {
        "colab": {
          "base_uri": "https://localhost:8080/"
        },
        "id": "ljRsrxcQXz1M",
        "outputId": "dfd2f833-9594-4e6f-a465-03149f54be5b"
      },
      "execution_count": 9,
      "outputs": [
        {
          "output_type": "execute_result",
          "data": {
            "text/plain": [
              "array([   3,   19,  105,  372,    8,    2, 4303,  595,  135,   53,  273,\n",
              "          4,   19,  117,   24,   35,    6,   39,    8,   30,  191,    2,\n",
              "         45,  582,   59,   27,    5, 2520,   51,    5, 1042,  625,    4,\n",
              "          7, 1099,   82,   14, 4304,    9, 1704,    4,  120, 4305,   10,\n",
              "         45,   82,   51,  157,    0,    0,    0,    0,    0,    0,    0,\n",
              "          0,    0,    0,    0,    0,    0,    0,    0,    0,    0,    0,\n",
              "          0,    0,    0,    0,    0,    0,    0,    0,    0,    0,    0,\n",
              "          0,    0,    0,    0,    0,    0,    0,    0,    0,    0,    0,\n",
              "          0,    0,    0,    0,    0,    0,    0,    0,    0,    0,    0,\n",
              "          0], dtype=int32)"
            ]
          },
          "metadata": {},
          "execution_count": 9
        }
      ]
    },
    {
      "cell_type": "code",
      "source": [
        "print(data_vocab_size)"
      ],
      "metadata": {
        "colab": {
          "base_uri": "https://localhost:8080/"
        },
        "id": "fjqNlQJCYBKN",
        "outputId": "144f9a46-1236-49af-a38e-8c66aec34d28"
      },
      "execution_count": 10,
      "outputs": [
        {
          "output_type": "stream",
          "name": "stdout",
          "text": [
            "9489\n"
          ]
        }
      ]
    },
    {
      "cell_type": "code",
      "source": [
        "import tensorflow as tf\n",
        "from tensorflow.keras.models import Sequential\n",
        "from tensorflow.keras.layers import Embedding, Bidirectional, LSTM, GlobalAveragePooling1D, Dense, Dropout\n",
        "from tensorflow.keras.optimizers import Adam\n",
        "\n",
        "# Define your parameters\n",
        "dropout_threshold = 0.4\n",
        "input_dim = data_vocab_size\n",
        "output_dim = 60\n",
        "input_length = 100\n",
        "\n",
        "# Initialize the Sequential model\n",
        "model = Sequential()\n",
        "\n",
        "# Add layers to the model\n",
        "model.add(Embedding(input_dim=input_dim, output_dim=output_dim, input_length=input_length))\n",
        "model.add(Bidirectional(LSTM(units=output_dim, dropout=dropout_threshold, return_sequences=True),  merge_mode='concat'))\n",
        "model.add(Bidirectional(LSTM(units=output_dim, return_sequences=True)))\n",
        "model.add(GlobalAveragePooling1D())\n",
        "model.add(Dense(500, activation='relu'))\n",
        "model.add(Dropout(0.1))\n",
        "model.add(Dense(200, activation='relu'))\n",
        "model.add(Dropout(0.1))\n",
        "model.add(Dense(100, activation='relu'))\n",
        "model.add(Dropout(0.1))\n",
        "model.add(Dense(50, activation='relu'))\n",
        "model.add(Dense(12, activation='sigmoid'))\n",
        "\n",
        "\n",
        "\n",
        "# Compile the model\n",
        "adam = Adam(learning_rate=0.001)\n",
        "model.compile(optimizer=adam,\n",
        "              loss='binary_crossentropy',\n",
        "              metrics=tf.keras.metrics.BinaryAccuracy(name=\"binary_accuracy\", dtype=None, threshold=0.5))\n",
        "\n",
        "# Print the model summary\n",
        "model.summary()"
      ],
      "metadata": {
        "colab": {
          "base_uri": "https://localhost:8080/"
        },
        "id": "VwqDPJcxI5DM",
        "outputId": "ff883c5b-eeae-4d6a-edfa-6b4aa8a15ed3"
      },
      "execution_count": 11,
      "outputs": [
        {
          "output_type": "stream",
          "name": "stdout",
          "text": [
            "Model: \"sequential\"\n",
            "_________________________________________________________________\n",
            " Layer (type)                Output Shape              Param #   \n",
            "=================================================================\n",
            " embedding (Embedding)       (None, 100, 60)           569340    \n",
            "                                                                 \n",
            " bidirectional (Bidirection  (None, 100, 120)          58080     \n",
            " al)                                                             \n",
            "                                                                 \n",
            " bidirectional_1 (Bidirecti  (None, 100, 120)          86880     \n",
            " onal)                                                           \n",
            "                                                                 \n",
            " global_average_pooling1d (  (None, 120)               0         \n",
            " GlobalAveragePooling1D)                                         \n",
            "                                                                 \n",
            " dense (Dense)               (None, 500)               60500     \n",
            "                                                                 \n",
            " dropout (Dropout)           (None, 500)               0         \n",
            "                                                                 \n",
            " dense_1 (Dense)             (None, 200)               100200    \n",
            "                                                                 \n",
            " dropout_1 (Dropout)         (None, 200)               0         \n",
            "                                                                 \n",
            " dense_2 (Dense)             (None, 100)               20100     \n",
            "                                                                 \n",
            " dropout_2 (Dropout)         (None, 100)               0         \n",
            "                                                                 \n",
            " dense_3 (Dense)             (None, 50)                5050      \n",
            "                                                                 \n",
            " dense_4 (Dense)             (None, 12)                612       \n",
            "                                                                 \n",
            "=================================================================\n",
            "Total params: 900762 (3.44 MB)\n",
            "Trainable params: 900762 (3.44 MB)\n",
            "Non-trainable params: 0 (0.00 Byte)\n",
            "_________________________________________________________________\n"
          ]
        }
      ]
    },
    {
      "cell_type": "code",
      "source": [
        "callback_model = tf.keras.callbacks.ModelCheckpoint('model_lstm.h5', monitor = 'val_loss')\n",
        "history= model.fit(x=vec_data_train, y =y_train_standardize_output,  epochs =10, validation_data=[vec_data_test,y_val_standardize_output], callbacks=[callback_model])\n"
      ],
      "metadata": {
        "colab": {
          "base_uri": "https://localhost:8080/"
        },
        "id": "6JPdjqcOLaf5",
        "outputId": "9cdedc51-1b0c-4cf7-85fa-c7dc0bb8e387"
      },
      "execution_count": 13,
      "outputs": [
        {
          "output_type": "stream",
          "name": "stdout",
          "text": [
            "Epoch 1/10\n",
            "78/78 [==============================] - 16s 153ms/step - loss: 0.4471 - binary_accuracy: 0.8107 - val_loss: 0.4117 - val_binary_accuracy: 0.8113\n",
            "Epoch 2/10\n",
            " 1/78 [..............................] - ETA: 8s - loss: 0.3654 - binary_accuracy: 0.8229"
          ]
        },
        {
          "output_type": "stream",
          "name": "stderr",
          "text": [
            "/usr/local/lib/python3.10/dist-packages/keras/src/engine/training.py:3103: UserWarning: You are saving your model as an HDF5 file via `model.save()`. This file format is considered legacy. We recommend using instead the native Keras format, e.g. `model.save('my_model.keras')`.\n",
            "  saving_api.save_model(\n"
          ]
        },
        {
          "output_type": "stream",
          "name": "stdout",
          "text": [
            "78/78 [==============================] - 11s 139ms/step - loss: 0.3937 - binary_accuracy: 0.8228 - val_loss: 0.4162 - val_binary_accuracy: 0.7912\n",
            "Epoch 3/10\n",
            "78/78 [==============================] - 10s 134ms/step - loss: 0.3736 - binary_accuracy: 0.8256 - val_loss: 0.4406 - val_binary_accuracy: 0.7878\n",
            "Epoch 4/10\n",
            "78/78 [==============================] - 10s 131ms/step - loss: 0.3243 - binary_accuracy: 0.8515 - val_loss: 0.4851 - val_binary_accuracy: 0.7746\n",
            "Epoch 5/10\n",
            "78/78 [==============================] - 11s 141ms/step - loss: 0.2937 - binary_accuracy: 0.8710 - val_loss: 0.5970 - val_binary_accuracy: 0.7751\n",
            "Epoch 6/10\n",
            "78/78 [==============================] - 11s 137ms/step - loss: 0.2626 - binary_accuracy: 0.8840 - val_loss: 0.6020 - val_binary_accuracy: 0.7704\n",
            "Epoch 7/10\n",
            "78/78 [==============================] - 11s 138ms/step - loss: 0.2474 - binary_accuracy: 0.8897 - val_loss: 0.6370 - val_binary_accuracy: 0.7909\n",
            "Epoch 8/10\n",
            "78/78 [==============================] - 11s 138ms/step - loss: 0.2297 - binary_accuracy: 0.8956 - val_loss: 1.0117 - val_binary_accuracy: 0.7738\n",
            "Epoch 9/10\n",
            "78/78 [==============================] - 11s 140ms/step - loss: 0.2148 - binary_accuracy: 0.9051 - val_loss: 0.8157 - val_binary_accuracy: 0.7828\n",
            "Epoch 10/10\n",
            "78/78 [==============================] - 10s 123ms/step - loss: 0.2079 - binary_accuracy: 0.9103 - val_loss: 0.9349 - val_binary_accuracy: 0.7867\n"
          ]
        }
      ]
    },
    {
      "cell_type": "code",
      "source": [
        "model.save('model_final.h5')"
      ],
      "metadata": {
        "id": "gjyQTsRlML95"
      },
      "execution_count": 14,
      "outputs": []
    },
    {
      "cell_type": "code",
      "source": [
        "from google.colab import files"
      ],
      "metadata": {
        "id": "CCb8BOodZ3bu"
      },
      "execution_count": 15,
      "outputs": []
    },
    {
      "cell_type": "code",
      "source": [
        "files.download('model_lstm.h5')\n"
      ],
      "metadata": {
        "colab": {
          "base_uri": "https://localhost:8080/",
          "height": 17
        },
        "id": "6UksczHJZ6rH",
        "outputId": "23c34f47-842d-4a68-a678-8f829a8069c1"
      },
      "execution_count": 16,
      "outputs": [
        {
          "output_type": "display_data",
          "data": {
            "text/plain": [
              "<IPython.core.display.Javascript object>"
            ],
            "application/javascript": [
              "\n",
              "    async function download(id, filename, size) {\n",
              "      if (!google.colab.kernel.accessAllowed) {\n",
              "        return;\n",
              "      }\n",
              "      const div = document.createElement('div');\n",
              "      const label = document.createElement('label');\n",
              "      label.textContent = `Downloading \"${filename}\": `;\n",
              "      div.appendChild(label);\n",
              "      const progress = document.createElement('progress');\n",
              "      progress.max = size;\n",
              "      div.appendChild(progress);\n",
              "      document.body.appendChild(div);\n",
              "\n",
              "      const buffers = [];\n",
              "      let downloaded = 0;\n",
              "\n",
              "      const channel = await google.colab.kernel.comms.open(id);\n",
              "      // Send a message to notify the kernel that we're ready.\n",
              "      channel.send({})\n",
              "\n",
              "      for await (const message of channel.messages) {\n",
              "        // Send a message to notify the kernel that we're ready.\n",
              "        channel.send({})\n",
              "        if (message.buffers) {\n",
              "          for (const buffer of message.buffers) {\n",
              "            buffers.push(buffer);\n",
              "            downloaded += buffer.byteLength;\n",
              "            progress.value = downloaded;\n",
              "          }\n",
              "        }\n",
              "      }\n",
              "      const blob = new Blob(buffers, {type: 'application/binary'});\n",
              "      const a = document.createElement('a');\n",
              "      a.href = window.URL.createObjectURL(blob);\n",
              "      a.download = filename;\n",
              "      div.appendChild(a);\n",
              "      a.click();\n",
              "      div.remove();\n",
              "    }\n",
              "  "
            ]
          },
          "metadata": {}
        },
        {
          "output_type": "display_data",
          "data": {
            "text/plain": [
              "<IPython.core.display.Javascript object>"
            ],
            "application/javascript": [
              "download(\"download_e0e58259-fe64-46de-840a-922b7093ff19\", \"model_lstm.h5\", 10915704)"
            ]
          },
          "metadata": {}
        }
      ]
    },
    {
      "cell_type": "code",
      "source": [
        "files.download(\"model_final.h5\")"
      ],
      "metadata": {
        "colab": {
          "base_uri": "https://localhost:8080/",
          "height": 17
        },
        "id": "4_sH3zLwZ8N1",
        "outputId": "0ff0cae5-fc53-463e-d3d1-474e3c3121be"
      },
      "execution_count": 17,
      "outputs": [
        {
          "output_type": "display_data",
          "data": {
            "text/plain": [
              "<IPython.core.display.Javascript object>"
            ],
            "application/javascript": [
              "\n",
              "    async function download(id, filename, size) {\n",
              "      if (!google.colab.kernel.accessAllowed) {\n",
              "        return;\n",
              "      }\n",
              "      const div = document.createElement('div');\n",
              "      const label = document.createElement('label');\n",
              "      label.textContent = `Downloading \"${filename}\": `;\n",
              "      div.appendChild(label);\n",
              "      const progress = document.createElement('progress');\n",
              "      progress.max = size;\n",
              "      div.appendChild(progress);\n",
              "      document.body.appendChild(div);\n",
              "\n",
              "      const buffers = [];\n",
              "      let downloaded = 0;\n",
              "\n",
              "      const channel = await google.colab.kernel.comms.open(id);\n",
              "      // Send a message to notify the kernel that we're ready.\n",
              "      channel.send({})\n",
              "\n",
              "      for await (const message of channel.messages) {\n",
              "        // Send a message to notify the kernel that we're ready.\n",
              "        channel.send({})\n",
              "        if (message.buffers) {\n",
              "          for (const buffer of message.buffers) {\n",
              "            buffers.push(buffer);\n",
              "            downloaded += buffer.byteLength;\n",
              "            progress.value = downloaded;\n",
              "          }\n",
              "        }\n",
              "      }\n",
              "      const blob = new Blob(buffers, {type: 'application/binary'});\n",
              "      const a = document.createElement('a');\n",
              "      a.href = window.URL.createObjectURL(blob);\n",
              "      a.download = filename;\n",
              "      div.appendChild(a);\n",
              "      a.click();\n",
              "      div.remove();\n",
              "    }\n",
              "  "
            ]
          },
          "metadata": {}
        },
        {
          "output_type": "display_data",
          "data": {
            "text/plain": [
              "<IPython.core.display.Javascript object>"
            ],
            "application/javascript": [
              "download(\"download_8c064d42-412b-4891-9209-369d480ba3c9\", \"model_final.h5\", 10915704)"
            ]
          },
          "metadata": {}
        }
      ]
    }
  ]
}