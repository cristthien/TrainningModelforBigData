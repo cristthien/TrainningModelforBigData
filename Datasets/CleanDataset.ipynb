{
 "cells": [
  {
   "cell_type": "code",
   "execution_count": 74,
   "metadata": {},
   "outputs": [],
   "source": [
    "import pandas as pd\n"
   ]
  },
  {
   "cell_type": "code",
   "execution_count": 75,
   "metadata": {},
   "outputs": [
    {
     "name": "stdout",
     "output_type": "stream",
     "text": [
      "             sentenceId                                           raw_text  \\\n",
      "0     32897564#894393#2                    The bread is top notch as well.   \n",
      "1     33070600#670328#0  I have to say they have one of the fastest del...   \n",
      "2     33070600#670328#2        Food is always fresh and hot- ready to eat!   \n",
      "3     36244464#949326#5      Did I mention that the coffee is OUTSTANDING?   \n",
      "4     32894246#870052#0  Certainly not the best sushi in New York, howe...   \n",
      "..                  ...                                                ...   \n",
      "795  11661949#1709112#8                        Anyway, the owner was fake.   \n",
      "796   35698240#574381#2                Owner is pleasant and entertaining.   \n",
      "797   11350390#802808#3  I have never in my life sent back food before,...   \n",
      "798   11482070#503858#3  Although the restaurant itself is nice, I pref...   \n",
      "799   11351628#404492#3  Creamy appetizers--taramasalata, eggplant sala...   \n",
      "\n",
      "                                           aspectTerms  \\\n",
      "0          [{'term': 'bread', 'polarity': 'positive'}]   \n",
      "1    [{'term': 'delivery times', 'polarity': 'posit...   \n",
      "2           [{'term': 'Food', 'polarity': 'positive'}]   \n",
      "3         [{'term': 'coffee', 'polarity': 'positive'}]   \n",
      "4    [{'term': 'sushi', 'polarity': 'conflict'}, {'...   \n",
      "..                                                 ...   \n",
      "795        [{'term': 'owner', 'polarity': 'negative'}]   \n",
      "796        [{'term': 'Owner', 'polarity': 'positive'}]   \n",
      "797  [{'term': 'food', 'polarity': 'negative'}, {'t...   \n",
      "798         [{'term': 'food', 'polarity': 'negative'}]   \n",
      "799  [{'term': 'Creamy appetizers', 'polarity': 'po...   \n",
      "\n",
      "                                      aspectCategories  \n",
      "0       [{'category': 'food', 'polarity': 'positive'}]  \n",
      "1    [{'category': 'service', 'polarity': 'positive'}]  \n",
      "2       [{'category': 'food', 'polarity': 'positive'}]  \n",
      "3       [{'category': 'food', 'polarity': 'positive'}]  \n",
      "4    [{'category': 'food', 'polarity': 'conflict'},...  \n",
      "..                                                 ...  \n",
      "795  [{'category': 'service', 'polarity': 'negative'}]  \n",
      "796  [{'category': 'service', 'polarity': 'positive'}]  \n",
      "797  [{'category': 'food', 'polarity': 'negative'},...  \n",
      "798  [{'category': 'ambience', 'polarity': 'positiv...  \n",
      "799     [{'category': 'food', 'polarity': 'positive'}]  \n",
      "\n",
      "[800 rows x 4 columns]\n"
     ]
    }
   ],
   "source": [
    "df_train= pd.read_csv('raw_datasets\\Restaurants_Test.csv')\n",
    "print(df_train)"
   ]
  },
  {
   "cell_type": "code",
   "execution_count": 76,
   "metadata": {},
   "outputs": [
    {
     "name": "stdout",
     "output_type": "stream",
     "text": [
      "0         [{'category': 'food', 'polarity': 'positive'}]\n",
      "1      [{'category': 'service', 'polarity': 'positive'}]\n",
      "2         [{'category': 'food', 'polarity': 'positive'}]\n",
      "3         [{'category': 'food', 'polarity': 'positive'}]\n",
      "4      [{'category': 'food', 'polarity': 'conflict'},...\n",
      "                             ...                        \n",
      "795    [{'category': 'service', 'polarity': 'negative'}]\n",
      "796    [{'category': 'service', 'polarity': 'positive'}]\n",
      "797    [{'category': 'food', 'polarity': 'negative'},...\n",
      "798    [{'category': 'ambience', 'polarity': 'positiv...\n",
      "799       [{'category': 'food', 'polarity': 'positive'}]\n",
      "Name: aspectCategories, Length: 800, dtype: object\n"
     ]
    }
   ],
   "source": [
    "print(df_train['aspectCategories'])"
   ]
  },
  {
   "cell_type": "code",
   "execution_count": 77,
   "metadata": {},
   "outputs": [],
   "source": [
    "import ast"
   ]
  },
  {
   "cell_type": "code",
   "execution_count": 78,
   "metadata": {},
   "outputs": [],
   "source": [
    "df_train['aspectCategories'] = df_train['aspectCategories'].apply(ast.literal_eval)"
   ]
  },
  {
   "cell_type": "code",
   "execution_count": 79,
   "metadata": {},
   "outputs": [
    {
     "name": "stdout",
     "output_type": "stream",
     "text": [
      "0         [{'category': 'food', 'polarity': 'positive'}]\n",
      "1      [{'category': 'service', 'polarity': 'positive'}]\n",
      "2         [{'category': 'food', 'polarity': 'positive'}]\n",
      "3         [{'category': 'food', 'polarity': 'positive'}]\n",
      "4      [{'category': 'food', 'polarity': 'conflict'},...\n",
      "                             ...                        \n",
      "795    [{'category': 'service', 'polarity': 'negative'}]\n",
      "796    [{'category': 'service', 'polarity': 'positive'}]\n",
      "797    [{'category': 'food', 'polarity': 'negative'},...\n",
      "798    [{'category': 'ambience', 'polarity': 'positiv...\n",
      "799       [{'category': 'food', 'polarity': 'positive'}]\n",
      "Name: aspectCategories, Length: 800, dtype: object\n"
     ]
    }
   ],
   "source": [
    "print(df_train['aspectCategories'])"
   ]
  },
  {
   "cell_type": "code",
   "execution_count": 11,
   "metadata": {},
   "outputs": [],
   "source": [
    "df_normalized = pd.json_normalize(df_train['aspectCategories'].explode())"
   ]
  },
  {
   "cell_type": "code",
   "execution_count": 12,
   "metadata": {},
   "outputs": [],
   "source": [
    "category_counts = df_normalized['category'].value_counts()\n"
   ]
  },
  {
   "cell_type": "code",
   "execution_count": 13,
   "metadata": {},
   "outputs": [
    {
     "name": "stdout",
     "output_type": "stream",
     "text": [
      "Unique categories and their counts:\n",
      "category\n",
      "food                       1232\n",
      "anecdotes/miscellaneous    1132\n",
      "service                     597\n",
      "ambience                    431\n",
      "price                       321\n",
      "Name: count, dtype: int64\n"
     ]
    }
   ],
   "source": [
    "print(\"Unique categories and their counts:\")\n",
    "print(category_counts)"
   ]
  },
  {
   "cell_type": "code",
   "execution_count": 80,
   "metadata": {},
   "outputs": [],
   "source": [
    "categories = ['food', 'anecdotes/miscellaneous', 'service', 'ambience', 'price']\n",
    "df_new = pd.DataFrame(df_train['raw_text'])\n"
   ]
  },
  {
   "cell_type": "code",
   "execution_count": 81,
   "metadata": {},
   "outputs": [],
   "source": [
    "# Add columns for each category with default value 0\n",
    "for category in categories:\n",
    "    df_new[category] = 0\n"
   ]
  },
  {
   "cell_type": "code",
   "execution_count": 82,
   "metadata": {},
   "outputs": [
    {
     "name": "stdout",
     "output_type": "stream",
     "text": [
      "                                              raw_text  food  \\\n",
      "0                      The bread is top notch as well.     0   \n",
      "1    I have to say they have one of the fastest del...     0   \n",
      "2          Food is always fresh and hot- ready to eat!     0   \n",
      "3        Did I mention that the coffee is OUTSTANDING?     0   \n",
      "4    Certainly not the best sushi in New York, howe...     0   \n",
      "..                                                 ...   ...   \n",
      "795                        Anyway, the owner was fake.     0   \n",
      "796                Owner is pleasant and entertaining.     0   \n",
      "797  I have never in my life sent back food before,...     0   \n",
      "798  Although the restaurant itself is nice, I pref...     0   \n",
      "799  Creamy appetizers--taramasalata, eggplant sala...     0   \n",
      "\n",
      "     anecdotes/miscellaneous  service  ambience  price  \n",
      "0                          0        0         0      0  \n",
      "1                          0        0         0      0  \n",
      "2                          0        0         0      0  \n",
      "3                          0        0         0      0  \n",
      "4                          0        0         0      0  \n",
      "..                       ...      ...       ...    ...  \n",
      "795                        0        0         0      0  \n",
      "796                        0        0         0      0  \n",
      "797                        0        0         0      0  \n",
      "798                        0        0         0      0  \n",
      "799                        0        0         0      0  \n",
      "\n",
      "[800 rows x 6 columns]\n"
     ]
    }
   ],
   "source": [
    "print(df_new)"
   ]
  },
  {
   "cell_type": "code",
   "execution_count": 83,
   "metadata": {},
   "outputs": [
    {
     "data": {
      "text/plain": [
       "0"
      ]
     },
     "execution_count": 83,
     "metadata": {},
     "output_type": "execute_result"
    }
   ],
   "source": [
    "df_new.at[0, 'food'] "
   ]
  },
  {
   "cell_type": "code",
   "execution_count": 84,
   "metadata": {},
   "outputs": [],
   "source": [
    "polarity_map = {'positive': 1, 'negative': 2, 'neutral': 3}\n",
    "for index, row in df_train.iterrows():\n",
    "    for aspect in row['aspectCategories']:\n",
    "        category = aspect['category']\n",
    "        polarity = aspect['polarity']\n",
    "        if category in df_new.columns:\n",
    "            df_new.at[index, category] = polarity_map.get(polarity, 0)\n",
    "\n",
    "\n",
    "            \n",
    "\n"
   ]
  },
  {
   "cell_type": "code",
   "execution_count": 88,
   "metadata": {},
   "outputs": [
    {
     "name": "stdout",
     "output_type": "stream",
     "text": [
      "0 food positive\n",
      "1 service positive\n",
      "2 food positive\n",
      "3 food positive\n",
      "4 food conflict\n",
      "4 ambience positive\n",
      "5 anecdotes/miscellaneous positive\n",
      "6 food positive\n",
      "7 food positive\n",
      "8 food positive\n",
      "9 food positive\n",
      "10 food negative\n",
      "11 food positive\n",
      "11 service negative\n",
      "12 food positive\n",
      "12 ambience positive\n",
      "13 service negative\n",
      "14 food negative\n",
      "15 food negative\n",
      "16 food positive\n",
      "16 price positive\n",
      "17 food positive\n",
      "17 service negative\n",
      "18 food neutral\n",
      "19 service negative\n"
     ]
    }
   ],
   "source": [
    "polarity_map = {'positive': 1, 'negative': 2, 'neutral': 3}\n",
    "for index, row in df_train.iterrows():\n",
    "    for aspect in row['aspectCategories']:\n",
    "        category = aspect['category']\n",
    "        polarity = aspect['polarity']\n",
    "        print(index,category, polarity )\n",
    "    if index >= 19: break\n",
    "\n",
    "\n",
    "            \n",
    "\n"
   ]
  },
  {
   "cell_type": "code",
   "execution_count": 86,
   "metadata": {},
   "outputs": [
    {
     "data": {
      "text/html": [
       "<div>\n",
       "<style scoped>\n",
       "    .dataframe tbody tr th:only-of-type {\n",
       "        vertical-align: middle;\n",
       "    }\n",
       "\n",
       "    .dataframe tbody tr th {\n",
       "        vertical-align: top;\n",
       "    }\n",
       "\n",
       "    .dataframe thead th {\n",
       "        text-align: right;\n",
       "    }\n",
       "</style>\n",
       "<table border=\"1\" class=\"dataframe\">\n",
       "  <thead>\n",
       "    <tr style=\"text-align: right;\">\n",
       "      <th></th>\n",
       "      <th>raw_text</th>\n",
       "      <th>food</th>\n",
       "      <th>anecdotes/miscellaneous</th>\n",
       "      <th>service</th>\n",
       "      <th>ambience</th>\n",
       "      <th>price</th>\n",
       "    </tr>\n",
       "  </thead>\n",
       "  <tbody>\n",
       "    <tr>\n",
       "      <th>0</th>\n",
       "      <td>The bread is top notch as well.</td>\n",
       "      <td>1</td>\n",
       "      <td>0</td>\n",
       "      <td>0</td>\n",
       "      <td>0</td>\n",
       "      <td>0</td>\n",
       "    </tr>\n",
       "    <tr>\n",
       "      <th>1</th>\n",
       "      <td>I have to say they have one of the fastest del...</td>\n",
       "      <td>0</td>\n",
       "      <td>0</td>\n",
       "      <td>1</td>\n",
       "      <td>0</td>\n",
       "      <td>0</td>\n",
       "    </tr>\n",
       "    <tr>\n",
       "      <th>2</th>\n",
       "      <td>Food is always fresh and hot- ready to eat!</td>\n",
       "      <td>1</td>\n",
       "      <td>0</td>\n",
       "      <td>0</td>\n",
       "      <td>0</td>\n",
       "      <td>0</td>\n",
       "    </tr>\n",
       "    <tr>\n",
       "      <th>3</th>\n",
       "      <td>Did I mention that the coffee is OUTSTANDING?</td>\n",
       "      <td>1</td>\n",
       "      <td>0</td>\n",
       "      <td>0</td>\n",
       "      <td>0</td>\n",
       "      <td>0</td>\n",
       "    </tr>\n",
       "    <tr>\n",
       "      <th>4</th>\n",
       "      <td>Certainly not the best sushi in New York, howe...</td>\n",
       "      <td>0</td>\n",
       "      <td>0</td>\n",
       "      <td>0</td>\n",
       "      <td>1</td>\n",
       "      <td>0</td>\n",
       "    </tr>\n",
       "    <tr>\n",
       "      <th>5</th>\n",
       "      <td>I trust the people at Go Sushi, it never disap...</td>\n",
       "      <td>0</td>\n",
       "      <td>1</td>\n",
       "      <td>0</td>\n",
       "      <td>0</td>\n",
       "      <td>0</td>\n",
       "    </tr>\n",
       "    <tr>\n",
       "      <th>6</th>\n",
       "      <td>Straight-forward, no surprises, very decent Ja...</td>\n",
       "      <td>1</td>\n",
       "      <td>0</td>\n",
       "      <td>0</td>\n",
       "      <td>0</td>\n",
       "      <td>0</td>\n",
       "    </tr>\n",
       "    <tr>\n",
       "      <th>7</th>\n",
       "      <td>BEST spicy tuna roll, great asian salad.</td>\n",
       "      <td>1</td>\n",
       "      <td>0</td>\n",
       "      <td>0</td>\n",
       "      <td>0</td>\n",
       "      <td>0</td>\n",
       "    </tr>\n",
       "    <tr>\n",
       "      <th>8</th>\n",
       "      <td>Try the rose roll (not on menu).</td>\n",
       "      <td>1</td>\n",
       "      <td>0</td>\n",
       "      <td>0</td>\n",
       "      <td>0</td>\n",
       "      <td>0</td>\n",
       "    </tr>\n",
       "    <tr>\n",
       "      <th>9</th>\n",
       "      <td>I love the drinks, esp lychee martini, and the...</td>\n",
       "      <td>1</td>\n",
       "      <td>0</td>\n",
       "      <td>0</td>\n",
       "      <td>0</td>\n",
       "      <td>0</td>\n",
       "    </tr>\n",
       "    <tr>\n",
       "      <th>10</th>\n",
       "      <td>In fact, this was not a Nicoise salad and was ...</td>\n",
       "      <td>2</td>\n",
       "      <td>0</td>\n",
       "      <td>0</td>\n",
       "      <td>0</td>\n",
       "      <td>0</td>\n",
       "    </tr>\n",
       "    <tr>\n",
       "      <th>11</th>\n",
       "      <td>While there's a decent menu, it shouldn't take...</td>\n",
       "      <td>1</td>\n",
       "      <td>0</td>\n",
       "      <td>2</td>\n",
       "      <td>0</td>\n",
       "      <td>0</td>\n",
       "    </tr>\n",
       "    <tr>\n",
       "      <th>12</th>\n",
       "      <td>Once we sailed, the top-notch food and live en...</td>\n",
       "      <td>1</td>\n",
       "      <td>0</td>\n",
       "      <td>0</td>\n",
       "      <td>1</td>\n",
       "      <td>0</td>\n",
       "    </tr>\n",
       "    <tr>\n",
       "      <th>13</th>\n",
       "      <td>Our waiter was horrible; so rude and disintere...</td>\n",
       "      <td>0</td>\n",
       "      <td>0</td>\n",
       "      <td>2</td>\n",
       "      <td>0</td>\n",
       "      <td>0</td>\n",
       "    </tr>\n",
       "    <tr>\n",
       "      <th>14</th>\n",
       "      <td>The sangria's - watered down.</td>\n",
       "      <td>2</td>\n",
       "      <td>0</td>\n",
       "      <td>0</td>\n",
       "      <td>0</td>\n",
       "      <td>0</td>\n",
       "    </tr>\n",
       "    <tr>\n",
       "      <th>15</th>\n",
       "      <td>menu - uneventful, small.</td>\n",
       "      <td>2</td>\n",
       "      <td>0</td>\n",
       "      <td>0</td>\n",
       "      <td>0</td>\n",
       "      <td>0</td>\n",
       "    </tr>\n",
       "    <tr>\n",
       "      <th>16</th>\n",
       "      <td>Anytime and everytime I find myself in the nei...</td>\n",
       "      <td>1</td>\n",
       "      <td>0</td>\n",
       "      <td>0</td>\n",
       "      <td>0</td>\n",
       "      <td>1</td>\n",
       "    </tr>\n",
       "    <tr>\n",
       "      <th>17</th>\n",
       "      <td>Great food but the service was dreadful!</td>\n",
       "      <td>1</td>\n",
       "      <td>0</td>\n",
       "      <td>2</td>\n",
       "      <td>0</td>\n",
       "      <td>0</td>\n",
       "    </tr>\n",
       "    <tr>\n",
       "      <th>18</th>\n",
       "      <td>The portions of the food that came out were me...</td>\n",
       "      <td>3</td>\n",
       "      <td>0</td>\n",
       "      <td>0</td>\n",
       "      <td>0</td>\n",
       "      <td>0</td>\n",
       "    </tr>\n",
       "    <tr>\n",
       "      <th>19</th>\n",
       "      <td>the two waitress's looked like they had been s...</td>\n",
       "      <td>0</td>\n",
       "      <td>0</td>\n",
       "      <td>2</td>\n",
       "      <td>0</td>\n",
       "      <td>0</td>\n",
       "    </tr>\n",
       "  </tbody>\n",
       "</table>\n",
       "</div>"
      ],
      "text/plain": [
       "                                             raw_text  food  \\\n",
       "0                     The bread is top notch as well.     1   \n",
       "1   I have to say they have one of the fastest del...     0   \n",
       "2         Food is always fresh and hot- ready to eat!     1   \n",
       "3       Did I mention that the coffee is OUTSTANDING?     1   \n",
       "4   Certainly not the best sushi in New York, howe...     0   \n",
       "5   I trust the people at Go Sushi, it never disap...     0   \n",
       "6   Straight-forward, no surprises, very decent Ja...     1   \n",
       "7            BEST spicy tuna roll, great asian salad.     1   \n",
       "8                    Try the rose roll (not on menu).     1   \n",
       "9   I love the drinks, esp lychee martini, and the...     1   \n",
       "10  In fact, this was not a Nicoise salad and was ...     2   \n",
       "11  While there's a decent menu, it shouldn't take...     1   \n",
       "12  Once we sailed, the top-notch food and live en...     1   \n",
       "13  Our waiter was horrible; so rude and disintere...     0   \n",
       "14                      The sangria's - watered down.     2   \n",
       "15                          menu - uneventful, small.     2   \n",
       "16  Anytime and everytime I find myself in the nei...     1   \n",
       "17           Great food but the service was dreadful!     1   \n",
       "18  The portions of the food that came out were me...     3   \n",
       "19  the two waitress's looked like they had been s...     0   \n",
       "\n",
       "    anecdotes/miscellaneous  service  ambience  price  \n",
       "0                         0        0         0      0  \n",
       "1                         0        1         0      0  \n",
       "2                         0        0         0      0  \n",
       "3                         0        0         0      0  \n",
       "4                         0        0         1      0  \n",
       "5                         1        0         0      0  \n",
       "6                         0        0         0      0  \n",
       "7                         0        0         0      0  \n",
       "8                         0        0         0      0  \n",
       "9                         0        0         0      0  \n",
       "10                        0        0         0      0  \n",
       "11                        0        2         0      0  \n",
       "12                        0        0         1      0  \n",
       "13                        0        2         0      0  \n",
       "14                        0        0         0      0  \n",
       "15                        0        0         0      0  \n",
       "16                        0        0         0      1  \n",
       "17                        0        2         0      0  \n",
       "18                        0        0         0      0  \n",
       "19                        0        2         0      0  "
      ]
     },
     "execution_count": 86,
     "metadata": {},
     "output_type": "execute_result"
    }
   ],
   "source": [
    "df_new.head(20)"
   ]
  },
  {
   "cell_type": "code",
   "execution_count": 89,
   "metadata": {},
   "outputs": [],
   "source": [
    "df_new.to_csv('test.csv', index=False)"
   ]
  },
  {
   "cell_type": "code",
   "execution_count": null,
   "metadata": {},
   "outputs": [],
   "source": []
  }
 ],
 "metadata": {
  "kernelspec": {
   "display_name": "Python 3",
   "language": "python",
   "name": "python3"
  },
  "language_info": {
   "codemirror_mode": {
    "name": "ipython",
    "version": 3
   },
   "file_extension": ".py",
   "mimetype": "text/x-python",
   "name": "python",
   "nbconvert_exporter": "python",
   "pygments_lexer": "ipython3",
   "version": "3.11.5"
  }
 },
 "nbformat": 4,
 "nbformat_minor": 2
}
