{
 "cells": [
  {
   "cell_type": "code",
   "execution_count": 2,
   "metadata": {},
   "outputs": [
    {
     "name": "stdout",
     "output_type": "stream",
     "text": [
      "Validation set saved to 'val.csv' with 500 entries.\n",
      "Test set saved to 'test.csv' with 300 entries.\n"
     ]
    }
   ],
   "source": [
    "import pandas as pd\n",
    "\n",
    "# Load the CSV file\n",
    "file_path = 'val_test.csv'\n",
    "data = pd.read_csv(file_path)\n",
    "\n",
    "# Split the data\n",
    "val_data = data.iloc[:500]\n",
    "test_data = data.iloc[500:]\n",
    "\n",
    "# Save the subsets to new CSV files\n",
    "val_data.to_csv('val.csv', index=False)\n",
    "test_data.to_csv('test.csv', index=False)\n",
    "\n",
    "# Verify the contents of the new CSV files\n",
    "val_loaded = pd.read_csv('val.csv')\n",
    "test_loaded = pd.read_csv('test.csv')\n",
    "\n",
    "print(f\"Validation set saved to 'val.csv' with {len(val_loaded)} entries.\")\n",
    "print(f\"Test set saved to 'test.csv' with {len(test_loaded)} entries.\")\n"
   ]
  },
  {
   "cell_type": "code",
   "execution_count": null,
   "metadata": {},
   "outputs": [],
   "source": [
    "p"
   ]
  }
 ],
 "metadata": {
  "kernelspec": {
   "display_name": "Python 3",
   "language": "python",
   "name": "python3"
  },
  "language_info": {
   "codemirror_mode": {
    "name": "ipython",
    "version": 3
   },
   "file_extension": ".py",
   "mimetype": "text/x-python",
   "name": "python",
   "nbconvert_exporter": "python",
   "pygments_lexer": "ipython3",
   "version": "3.11.5"
  }
 },
 "nbformat": 4,
 "nbformat_minor": 2
}
